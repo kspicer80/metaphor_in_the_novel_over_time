{
 "cells": [
  {
   "cell_type": "code",
   "execution_count": 13,
   "metadata": {},
   "outputs": [],
   "source": [
    "import os\n",
    "\n",
    "header = \"*** START OF (THIS|THE) PROJECT GUTENBERG EBOOK .* ***\"\n",
    "footer = \"*** END OF (THIS|THE) PROJECT GUTENBERG EBOOK .* ***\"\n",
    "\n",
    "def strip_header_footer(file_path):\n",
    "    with open(file_path, \"r\") as file:\n",
    "        lines = file.readlines()\n",
    "    start, end = -1, -1\n",
    "    for i, line in enumerate(lines):\n",
    "        if header in line:\n",
    "            start = i\n",
    "        if footer in line:\n",
    "            end = i\n",
    "    print(f\"{file_path}: start={start}, end={end}\")\n",
    "    if start == -1 or end == -1:\n",
    "        return None\n",
    "    return ''.join(lines[start + 1:end])\n",
    "\n",
    "data_folder = \".\"\n",
    "for root, dirs, files in os.walk(data_folder):\n",
    "    print(f\"root: {root}\")\n",
    "    print(f\"files: {files}\")\n",
    "    for file in files:\n",
    "        if file.endswith(\".txt\"):\n",
    "            file_path = os.path.join(root, file)\n",
    "            print(f\"Processing file: {file_path}\")\n",
    "            stripped_text = strip_header_footer(file_path)\n",
    "            if stripped_text is not None:\n",
    "                with open(file_path, \"w\") as file:\n",
    "                    file.write(stripped_text)"
   ]
  }
 ],
 "metadata": {
  "kernelspec": {
   "display_name": "python311",
   "language": "python",
   "name": "python3"
  },
  "language_info": {
   "codemirror_mode": {
    "name": "ipython",
    "version": 3
   },
   "file_extension": ".py",
   "mimetype": "text/x-python",
   "name": "python",
   "nbconvert_exporter": "python",
   "pygments_lexer": "ipython3",
   "version": "3.11.0"
  },
  "orig_nbformat": 4,
  "vscode": {
   "interpreter": {
    "hash": "4159a6653fa75438f66a7bfc0596de9be5c1734cbef8b4e22353e9d3f86b82c0"
   }
  }
 },
 "nbformat": 4,
 "nbformat_minor": 2
}
