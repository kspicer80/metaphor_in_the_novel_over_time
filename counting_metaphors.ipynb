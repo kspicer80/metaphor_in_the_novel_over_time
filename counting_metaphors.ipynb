{
 "cells": [
  {
   "cell_type": "code",
   "execution_count": 44,
   "metadata": {},
   "outputs": [
    {
     "name": "stdout",
     "output_type": "stream",
     "text": [
      "Loading file: defoe_crusoe.txt\n",
      "Loading file: fielding_tom_jones.txt\n",
      "Loading file: richardson_pamela.txt\n",
      "Loading file: swift_gulliver.txt\n",
      "Loading file: bronte_jane_eyre.txt\n",
      "Loading file: dickens_bleak_house.txt\n",
      "Loading file: eliot_middlemarch.txt\n",
      "Loading file: shelley_frankenstein.txt\n",
      "Loading file: conrad_heart.txt\n",
      "Loading file: hardy_jude.txt\n",
      "Loading file: lawrence_sons_and_lovers.txt\n",
      "Loading file: woolf_dalloway.txt\n"
     ]
    }
   ],
   "source": [
    "from transformers import AutoTokenizer, AutoModelForTokenClassification\n",
    "from transformers import pipeline\n",
    "import os\n",
    "import json\n",
    "\n",
    "model = AutoModelForTokenClassification.from_pretrained(\"lwachowiak/Metaphor-Detection-XLMR\")\n",
    "tokenizer = AutoTokenizer.from_pretrained(\"lwachowiak/Metaphor-Detection-XLMR\")\n",
    "metaphor_pipeline = pipeline(\"ner\", model=model, tokenizer=tokenizer, aggregation_strategy=\"simple\")\n",
    "\n",
    "def count_label_1(entities):\n",
    "    count = 0\n",
    "    for entity in entities:\n",
    "        if entity['entity_group'] == 'LABEL_1':\n",
    "            count += 1\n",
    "    return count\n",
    "\n",
    "def process_text_with_hugging_face(texts, filenames):\n",
    "    metaphor_counts = {}\n",
    "    for i, text in enumerate(texts):\n",
    "        processed_text = metaphor_pipeline(text)\n",
    "        print(f\"Processing file with the model: {i}\" )\n",
    "        count = count_label_1(processed_text)\n",
    "        file_name = filenames[i]\n",
    "        metaphor_counts[file_name] = count\n",
    "    return metaphor_counts\n",
    "\n",
    "def load_data(folder_path):\n",
    "    root_folder = folder_path\n",
    "\n",
    "    filenames = []\n",
    "    text_data = []\n",
    "\n",
    "    for subfolder in os.listdir(root_folder):\n",
    "        subfolder_path = os.path.join(root_folder, subfolder)\n",
    "        for file in os.listdir(subfolder_path):\n",
    "            file_path = os.path.join(subfolder_path, file)\n",
    "            print(\"Loading file:\", file)\n",
    "            with open(file_path, 'r', encoding=\"utf-8\") as f:\n",
    "                text = f.read()\n",
    "            file_for_end = file_path.split('\\\\')[2]\n",
    "            filenames.append(file_for_end)\n",
    "            text_data.append(text)\n",
    "\n",
    "    return text_data, filenames\n",
    "\n",
    "loaded_data, filenames = load_data('texts')"
   ]
  },
  {
   "cell_type": "code",
   "execution_count": 45,
   "metadata": {},
   "outputs": [
    {
     "data": {
      "text/plain": [
       "['defoe_crusoe.txt',\n",
       " 'fielding_tom_jones.txt',\n",
       " 'richardson_pamela.txt',\n",
       " 'swift_gulliver.txt',\n",
       " 'bronte_jane_eyre.txt',\n",
       " 'dickens_bleak_house.txt',\n",
       " 'eliot_middlemarch.txt',\n",
       " 'shelley_frankenstein.txt',\n",
       " 'conrad_heart.txt',\n",
       " 'hardy_jude.txt',\n",
       " 'lawrence_sons_and_lovers.txt',\n",
       " 'woolf_dalloway.txt']"
      ]
     },
     "execution_count": 45,
     "metadata": {},
     "output_type": "execute_result"
    }
   ],
   "source": [
    "filenames"
   ]
  },
  {
   "cell_type": "code",
   "execution_count": 46,
   "metadata": {},
   "outputs": [
    {
     "name": "stdout",
     "output_type": "stream",
     "text": [
      "Processing file with the model: 0\n",
      "Processing file with the model: 1\n",
      "Processing file with the model: 2\n",
      "Processing file with the model: 3\n",
      "Processing file with the model: 4\n",
      "Processing file with the model: 5\n",
      "Processing file with the model: 6\n",
      "Processing file with the model: 7\n",
      "Processing file with the model: 8\n",
      "Processing file with the model: 9\n",
      "Processing file with the model: 10\n",
      "Processing file with the model: 11\n"
     ]
    }
   ],
   "source": [
    "count_em_all = process_text_with_hugging_face(loaded_data, filenames)"
   ]
  },
  {
   "cell_type": "code",
   "execution_count": 47,
   "metadata": {},
   "outputs": [
    {
     "data": {
      "text/html": [
       "<div>\n",
       "<style scoped>\n",
       "    .dataframe tbody tr th:only-of-type {\n",
       "        vertical-align: middle;\n",
       "    }\n",
       "\n",
       "    .dataframe tbody tr th {\n",
       "        vertical-align: top;\n",
       "    }\n",
       "\n",
       "    .dataframe thead th {\n",
       "        text-align: right;\n",
       "    }\n",
       "</style>\n",
       "<table border=\"1\" class=\"dataframe\">\n",
       "  <thead>\n",
       "    <tr style=\"text-align: right;\">\n",
       "      <th></th>\n",
       "      <th>metaphor_counts</th>\n",
       "    </tr>\n",
       "  </thead>\n",
       "  <tbody>\n",
       "    <tr>\n",
       "      <th>defoe_crusoe.txt</th>\n",
       "      <td>53</td>\n",
       "    </tr>\n",
       "    <tr>\n",
       "      <th>fielding_tom_jones.txt</th>\n",
       "      <td>47</td>\n",
       "    </tr>\n",
       "    <tr>\n",
       "      <th>richardson_pamela.txt</th>\n",
       "      <td>39</td>\n",
       "    </tr>\n",
       "    <tr>\n",
       "      <th>swift_gulliver.txt</th>\n",
       "      <td>30</td>\n",
       "    </tr>\n",
       "    <tr>\n",
       "      <th>bronte_jane_eyre.txt</th>\n",
       "      <td>27</td>\n",
       "    </tr>\n",
       "  </tbody>\n",
       "</table>\n",
       "</div>"
      ],
      "text/plain": [
       "                        metaphor_counts\n",
       "defoe_crusoe.txt                     53\n",
       "fielding_tom_jones.txt               47\n",
       "richardson_pamela.txt                39\n",
       "swift_gulliver.txt                   30\n",
       "bronte_jane_eyre.txt                 27"
      ]
     },
     "execution_count": 47,
     "metadata": {},
     "output_type": "execute_result"
    }
   ],
   "source": [
    "df = pd.DataFrame.from_dict(count_em_all, orient='index')\n",
    "df.head()\n",
    "df.rename(columns={None: 'text', 0: 'metaphor_counts'}, inplace=True)\n",
    "df.head()"
   ]
  },
  {
   "cell_type": "code",
   "execution_count": 48,
   "metadata": {},
   "outputs": [
    {
     "data": {
      "text/plain": [
       "<AxesSubplot:>"
      ]
     },
     "execution_count": 48,
     "metadata": {},
     "output_type": "execute_result"
    },
    {
     "data": {
      "image/png": "[encoded data removed]",
      "text/plain": [
       "<Figure size 432x288 with 1 Axes>"
      ]
     },
     "metadata": {
      "needs_background": "light"
     },
     "output_type": "display_data"
    }
   ],
   "source": [
    "df.plot(kind='bar')"
   ]
  },
  {
   "cell_type": "code",
   "execution_count": null,
   "metadata": {},
   "outputs": [],
   "source": []
  }
 ],
 "metadata": {
  "kernelspec": {
   "display_name": "base",
   "language": "python",
   "name": "python3"
  },
  "language_info": {
   "codemirror_mode": {
    "name": "ipython",
    "version": 3
   },
   "file_extension": ".py",
   "mimetype": "text/x-python",
   "name": "python",
   "nbconvert_exporter": "python",
   "pygments_lexer": "ipython3",
   "version": "3.8.13"
  },
  "orig_nbformat": 4,
  "vscode": {
   "interpreter": {
    "hash": "78d19a50a75e94ed07337807a2a4b3949d01827c8c124a0ab734d87497f7b4dd"
   }
  }
 },
 "nbformat": 4,
 "nbformat_minor": 2
}
